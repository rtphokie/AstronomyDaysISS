{
  "nbformat": 4,
  "nbformat_minor": 0,
  "metadata": {
    "colab": {
      "provenance": [],
      "authorship_tag": "ABX9TyNubz3n7vGFNOkcdFkjm2p3",
      "include_colab_link": true
    },
    "kernelspec": {
      "name": "python3",
      "display_name": "Python 3"
    }
  },
  "cells": [
    {
      "cell_type": "markdown",
      "metadata": {
        "id": "view-in-github",
        "colab_type": "text"
      },
      "source": [
        "<a href=\"https://colab.research.google.com/github/rtphokie/AstronomyDaysISS/blob/main/ISS.ipynb\" target=\"_parent\"><img src=\"https://colab.research.google.com/assets/colab-badge.svg\" alt=\"Open In Colab\"/></a>"
      ]
    },
    {
      "cell_type": "code",
      "metadata": {
        "colab": {
          "base_uri": "https://localhost:8080/"
        },
        "id": "dpULQI2fCOMG",
        "outputId": "93bb0ea1-8806-49ac-9879-c13bb61ce4ad"
      },
      "source": [
        "!pip install skyfield\n",
        "from skyfield.api import load, wgs84\n",
        "import pytz\n",
        "import pylab as pl\n",
        "import matplotlib.pyplot as plt\n",
        "ts = load.timescale()\n",
        "horizon=10"
      ],
      "execution_count": 1,
      "outputs": [
        {
          "output_type": "stream",
          "name": "stdout",
          "text": [
            "Collecting skyfield\n",
            "  Downloading skyfield-1.48-py3-none-any.whl (453 kB)\n",
            "\u001b[2K     \u001b[90m━━━━━━━━━━━━━━━━━━━━━━━━━━━━━━━━━━━━━━━━\u001b[0m \u001b[32m453.9/453.9 kB\u001b[0m \u001b[31m3.5 MB/s\u001b[0m eta \u001b[36m0:00:00\u001b[0m\n",
            "\u001b[?25hRequirement already satisfied: certifi>=2017.4.17 in /usr/local/lib/python3.10/dist-packages (from skyfield) (2024.2.2)\n",
            "Collecting jplephem>=2.13 (from skyfield)\n",
            "  Downloading jplephem-2.22-py3-none-any.whl (47 kB)\n",
            "\u001b[2K     \u001b[90m━━━━━━━━━━━━━━━━━━━━━━━━━━━━━━━━━━━━━━━━\u001b[0m \u001b[32m47.2/47.2 kB\u001b[0m \u001b[31m3.2 MB/s\u001b[0m eta \u001b[36m0:00:00\u001b[0m\n",
            "\u001b[?25hRequirement already satisfied: numpy in /usr/local/lib/python3.10/dist-packages (from skyfield) (1.25.2)\n",
            "Collecting sgp4>=2.2 (from skyfield)\n",
            "  Downloading sgp4-2.23-cp310-cp310-manylinux_2_5_x86_64.manylinux1_x86_64.manylinux_2_17_x86_64.manylinux2014_x86_64.whl (232 kB)\n",
            "\u001b[2K     \u001b[90m━━━━━━━━━━━━━━━━━━━━━━━━━━━━━━━━━━━━━━━━\u001b[0m \u001b[32m232.3/232.3 kB\u001b[0m \u001b[31m5.6 MB/s\u001b[0m eta \u001b[36m0:00:00\u001b[0m\n",
            "\u001b[?25hInstalling collected packages: sgp4, jplephem, skyfield\n",
            "Successfully installed jplephem-2.22 sgp4-2.23 skyfield-1.48\n"
          ]
        }
      ]
    },
    {
      "cell_type": "markdown",
      "metadata": {
        "id": "XBykMmEGzr-k"
      },
      "source": [
        "[space station orbital elements (NORAD)](http://celestrak.com/NORAD/elements/stations.txt)\n"
      ]
    },
    {
      "cell_type": "code",
      "metadata": {
        "colab": {
          "base_uri": "https://localhost:8080/"
        },
        "id": "xmqQXV72B0gZ",
        "outputId": "0396e942-e31b-4567-f4ce-8b2b20595ce1"
      },
      "source": [
        "stations_url = 'http://celestrak.com/NORAD/elements/stations.txt'\n",
        "satellites = load.tle_file(stations_url)\n",
        "print('Loaded', len(satellites), 'satellites')"
      ],
      "execution_count": 2,
      "outputs": [
        {
          "output_type": "stream",
          "name": "stderr",
          "text": [
            "\r[#################################] 100% stations.txt\n"
          ]
        },
        {
          "output_type": "stream",
          "name": "stdout",
          "text": [
            "Loaded 30 satellites\n"
          ]
        }
      ]
    },
    {
      "cell_type": "markdown",
      "source": [
        "https://upload.wikimedia.org/wikipedia/commons/2/24/ISS_diagram.png"
      ],
      "metadata": {
        "id": "Jjdp9Tz5AOrv"
      }
    },
    {
      "cell_type": "code",
      "metadata": {
        "colab": {
          "base_uri": "https://localhost:8080/"
        },
        "id": "rc8BF9IkCUj5",
        "outputId": "df0fd642-5825-4db5-f438-b6693a291ac4"
      },
      "source": [
        "by_name = {sat.name: sat for sat in satellites}\n",
        "satellite = by_name['ISS (ZARYA)']\n",
        "\n",
        "print(satellite.epoch.utc_jpl())\n",
        "print(satellite)"
      ],
      "execution_count": 3,
      "outputs": [
        {
          "output_type": "stream",
          "name": "stdout",
          "text": [
            "A.D. 2024-Apr-29 23:11:55.6388 UTC\n",
            "ISS (ZARYA) catalog #25544 epoch 2024-04-29 23:11:56 UTC\n"
          ]
        }
      ]
    },
    {
      "cell_type": "markdown",
      "metadata": {
        "id": "NEAZ4D6CM2ML"
      },
      "source": [
        "Where is the ISS? [NASA Spot the Station](https://spotthestation.nasa.gov/tracking_map.cfm)"
      ]
    },
    {
      "cell_type": "code",
      "metadata": {
        "colab": {
          "base_uri": "https://localhost:8080/"
        },
        "id": "ZgaEipJyGqWR",
        "outputId": "f8a7f4fc-5b5c-477b-b852-1dc2a5e4cb7c"
      },
      "source": [
        "t = ts.now()\n",
        "geocentric = satellite.at(t)\n",
        "subpoint = wgs84.subpoint(geocentric)\n",
        "print(f'Latitude:  {subpoint.latitude.degrees:.2f}')\n",
        "print(f'Longitude: {subpoint.longitude.degrees:.2f}')\n",
        "print(f\"Elevation {int(subpoint.elevation.km)} (km) {int(subpoint.elevation.km*0.621371)} (mi)\")\n",
        "print(f\"https://earth.google.com/web/search/{subpoint.latitude.degrees:.2f},{subpoint.longitude.degrees:.2f}/@47.13588096,47.3759601,-4649.26594136a,12274433.30377579d,35y,0h,0t,0r/data=Ck8aJRIfGY_C9ShcT0dAIR6F61G4nklAKgs0Ni42Miw1MS4yNBgCIAEiJgokCSNpsjq36UZAEVAjwaN0RkJAGZpZdCkAsFnAIbZNPnqeYV_AOgMKATA\")\n"
      ],
      "execution_count": 4,
      "outputs": [
        {
          "output_type": "stream",
          "name": "stdout",
          "text": [
            "Latitude:  30.46\n",
            "Longitude: 0.64\n",
            "Elevation 415 (km) 258 (mi)\n",
            "https://earth.google.com/web/search/30.46,0.64/@47.13588096,47.3759601,-4649.26594136a,12274433.30377579d,35y,0h,0t,0r/data=Ck8aJRIfGY_C9ShcT0dAIR6F61G4nklAKgs0Ni42Miw1MS4yNBgCIAEiJgokCSNpsjq36UZAEVAjwaN0RkJAGZpZdCkAsFnAIbZNPnqeYV_AOgMKATA\n"
          ]
        }
      ]
    },
    {
      "cell_type": "code",
      "source": [
        "local_tz = pytz.timezone('US/Eastern')\n",
        "local_lat=35.7796\n",
        "local_lng=-78.6382\n",
        "print(f\"https://earth.google.com/web/search/{local_lat},{local_lng}/@{local_lat},{local_lng},1118.53612974a,602.64657559d,35y,0h,0t,0r/data=ClcaLRInGQGfH0YIS0VAISV1ApoIn1zAKhM0Mi41ODYxOSwgLTExNC40ODQ5GAIgASImCiQJSFNn4ihMRUARd6Kq1OtJRUAZCPZlHtqdXMAhURrod2ugXMA6AwoBMA\")\n",
        "\n",
        "local_coords = wgs84.latlon(local_lat,local_lng, elevation_m=1100)"
      ],
      "metadata": {
        "colab": {
          "base_uri": "https://localhost:8080/"
        },
        "id": "G-Nfqqd5DTha",
        "outputId": "94707887-14b2-45bc-faab-584425a72d73"
      },
      "execution_count": 5,
      "outputs": [
        {
          "output_type": "stream",
          "name": "stdout",
          "text": [
            "https://earth.google.com/web/search/35.7796,-78.6382/@35.7796,-78.6382,1118.53612974a,602.64657559d,35y,0h,0t,0r/data=ClcaLRInGQGfH0YIS0VAISV1ApoIn1zAKhM0Mi41ODYxOSwgLTExNC40ODQ5GAIgASImCiQJSFNn4ihMRUARd6Kq1OtJRUAZCPZlHtqdXMAhURrod2ugXMA6AwoBMA\n"
          ]
        }
      ]
    },
    {
      "cell_type": "code",
      "metadata": {
        "colab": {
          "base_uri": "https://localhost:8080/"
        },
        "id": "rw-kStNDO1AF",
        "outputId": "e59ee1a1-c136-4478-92d3-8314147f4dce"
      },
      "source": [
        "difference = satellite - local_coords\n",
        "topocentric = difference.at(t)\n",
        "alt, az, distance = topocentric.altaz()\n",
        "print(f\"alt {alt}, az {az} distance {int(distance.km)} (km) {int(distance.km*0.621371):,} (mi)\")"
      ],
      "execution_count": 6,
      "outputs": [
        {
          "output_type": "stream",
          "name": "stdout",
          "text": [
            "alt -29deg 31' 58.1\", az 69deg 25' 51.3\" distance 7069 (km) 4,392 (mi)\n"
          ]
        }
      ]
    },
    {
      "cell_type": "markdown",
      "metadata": {
        "id": "fYnjhUVYZmGe"
      },
      "source": [
        "ISS Passes [Heavens Above](https://www.heavens-above.com/ISS_3D.aspx)"
      ]
    },
    {
      "cell_type": "code",
      "metadata": {
        "colab": {
          "base_uri": "https://localhost:8080/"
        },
        "id": "ltrQGBkRCZWH",
        "outputId": "a45b9679-f3ea-4576-94b5-fd3ad9f075d1"
      },
      "source": [
        "t0 = ts.utc(2024, 4, 30)\n",
        "t1 = ts.utc(2024, 5, 5)\n",
        "t, events = satellite.find_events(local_coords, t0, t1, altitude_degrees=horizon)\n",
        "for ti, event in zip(t, events):\n",
        "    name = ('rise above 10°', 'culminate', 'set below 10°')[event]\n",
        "    print(ti.utc_strftime('%Y %b %d %H:%M:%S'), name)"
      ],
      "execution_count": 29,
      "outputs": [
        {
          "output_type": "stream",
          "name": "stdout",
          "text": [
            "2024 Apr 30 04:47:02 rise above 10°\n",
            "2024 Apr 30 04:49:20 culminate\n",
            "2024 Apr 30 04:51:39 set below 10°\n",
            "2024 Apr 30 06:22:42 rise above 10°\n",
            "2024 Apr 30 06:25:49 culminate\n",
            "2024 Apr 30 06:28:56 set below 10°\n",
            "2024 Apr 30 11:18:19 rise above 10°\n",
            "2024 Apr 30 11:19:33 culminate\n",
            "2024 Apr 30 11:20:46 set below 10°\n",
            "2024 Apr 30 12:53:27 rise above 10°\n",
            "2024 Apr 30 12:56:46 culminate\n",
            "2024 Apr 30 13:00:03 set below 10°\n",
            "2024 May 01 05:33:20 rise above 10°\n",
            "2024 May 01 05:36:38 culminate\n",
            "2024 May 01 05:39:57 set below 10°\n",
            "2024 May 01 07:12:33 rise above 10°\n",
            "2024 May 01 07:13:50 culminate\n",
            "2024 May 01 07:15:07 set below 10°\n",
            "2024 May 01 12:04:28 rise above 10°\n",
            "2024 May 01 12:07:34 culminate\n",
            "2024 May 01 12:10:40 set below 10°\n",
            "2024 May 01 13:41:43 rise above 10°\n",
            "2024 May 01 13:44:03 culminate\n",
            "2024 May 01 13:46:22 set below 10°\n",
            "2024 May 02 04:44:14 rise above 10°\n",
            "2024 May 02 04:47:29 culminate\n",
            "2024 May 02 04:50:45 set below 10°\n",
            "2024 May 02 06:22:10 rise above 10°\n",
            "2024 May 02 06:24:25 culminate\n",
            "2024 May 02 06:26:40 set below 10°\n",
            "2024 May 02 11:15:34 rise above 10°\n",
            "2024 May 02 11:18:16 culminate\n",
            "2024 May 02 11:20:57 set below 10°\n",
            "2024 May 02 12:51:57 rise above 10°\n",
            "2024 May 02 12:55:00 culminate\n",
            "2024 May 02 12:58:01 set below 10°\n",
            "2024 May 03 03:55:27 rise above 10°\n",
            "2024 May 03 03:58:21 culminate\n",
            "2024 May 03 04:01:16 set below 10°\n",
            "2024 May 03 05:32:11 rise above 10°\n",
            "2024 May 03 05:35:01 culminate\n",
            "2024 May 03 05:37:51 set below 10°\n",
            "2024 May 03 10:26:49 rise above 10°\n",
            "2024 May 03 10:28:50 culminate\n",
            "2024 May 03 10:30:51 set below 10°\n",
            "2024 May 03 12:02:32 rise above 10°\n",
            "2024 May 03 12:05:50 culminate\n",
            "2024 May 03 12:09:07 set below 10°\n",
            "2024 May 04 03:07:15 rise above 10°\n",
            "2024 May 04 03:09:15 culminate\n",
            "2024 May 04 03:11:15 set below 10°\n",
            "2024 May 04 04:42:28 rise above 10°\n",
            "2024 May 04 04:45:39 culminate\n",
            "2024 May 04 04:48:51 set below 10°\n",
            "2024 May 04 09:38:30 rise above 10°\n",
            "2024 May 04 09:39:17 culminate\n",
            "2024 May 04 09:40:05 set below 10°\n",
            "2024 May 04 11:13:17 rise above 10°\n",
            "2024 May 04 11:16:33 culminate\n",
            "2024 May 04 11:19:49 set below 10°\n",
            "2024 May 04 12:51:51 rise above 10°\n",
            "2024 May 04 12:52:50 culminate\n",
            "2024 May 04 12:53:49 set below 10°\n"
          ]
        }
      ]
    },
    {
      "cell_type": "code",
      "metadata": {
        "id": "TNU1tVBiRUCz"
      },
      "source": [
        "eph = load('de421.bsp')\n",
        "sun, earth = eph['sun'], eph['earth']\n",
        "def sun_pos(t, topopos):\n",
        "  obs = earth + local_coords\n",
        "  astrometric = obs.at(t).observe(sun)\n",
        "  apparent = obs.at(t).observe(sun).apparent()\n",
        "  alt, az, dist = apparent.altaz()\n",
        "  return alt, az, dist"
      ],
      "execution_count": 30,
      "outputs": []
    },
    {
      "cell_type": "code",
      "metadata": {
        "colab": {
          "base_uri": "https://localhost:8080/"
        },
        "id": "_8vIX_9VSz8f",
        "outputId": "246207b2-00a3-4e84-882e-d60ffd2bb1d6"
      },
      "source": [
        "for ti, event in zip(t, events):\n",
        "    name = (f'rise above {horizon}°', 'highest point', f'set below {horizon}°')[event]\n",
        "    sunalt, sunaz, sundist = sun_pos(ti, local_coords)\n",
        "    if -12 <= sunalt.degrees <= -6:\n",
        "      print(ti.utc_jpl(), name)"
      ],
      "execution_count": 31,
      "outputs": [
        {
          "output_type": "stream",
          "name": "stdout",
          "text": [
            "A.D. 2024-May-04 09:38:29.9756 UTC rise above 10°\n",
            "A.D. 2024-May-04 09:39:17.3735 UTC highest point\n",
            "A.D. 2024-May-04 09:40:04.5971 UTC set below 10°\n"
          ]
        }
      ]
    },
    {
      "cell_type": "code",
      "metadata": {
        "colab": {
          "base_uri": "https://localhost:8080/"
        },
        "id": "dujpIRX-UQ3n",
        "outputId": "7b50a846-2a04-412e-f8de-cc778567c2f1"
      },
      "source": [
        "\n",
        "t, events = satellite.find_events(local_coords, t0, t1, altitude_degrees=horizon)\n",
        "for ti, event in zip(t, events):\n",
        "    name = (f'rise above {horizon}°', 'highest point', f'set below {horizon}°')[event]\n",
        "    sunalt, sunaz, sundist = sun_pos(ti, local_coords)\n",
        "    if -12 <= sunalt.degrees <= -6:\n",
        "      print(ti.astimezone(local_tz).strftime('%a %b %d %-I:%M:%S %p'), name)\n",
        "      if event ==2:\n",
        "        print()"
      ],
      "execution_count": 32,
      "outputs": [
        {
          "output_type": "stream",
          "name": "stdout",
          "text": [
            "Sat May 04 5:38:29 AM rise above 10°\n",
            "Sat May 04 5:39:17 AM highest point\n",
            "Sat May 04 5:40:04 AM set below 10°\n",
            "\n"
          ]
        }
      ]
    }
  ]
}