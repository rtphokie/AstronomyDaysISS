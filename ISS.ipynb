{
  "nbformat": 4,
  "nbformat_minor": 0,
  "metadata": {
    "colab": {
      "name": "ISS.ipynb",
      "provenance": [],
      "collapsed_sections": []
    },
    "kernelspec": {
      "name": "python3",
      "display_name": "Python 3"
    }
  },
  "cells": [
    {
      "cell_type": "code",
      "metadata": {
        "colab": {
          "base_uri": "https://localhost:8080/"
        },
        "id": "dpULQI2fCOMG",
        "outputId": "8af03adb-ffa4-4141-f0b5-b082bd1bcfb1"
      },
      "source": [
        "!pip install skyfield\n",
        "from skyfield.api import load, wgs84\n",
        "import pytz\n",
        "import pylab as pl\n",
        "import matplotlib.pyplot as plt\n",
        "ts = load.timescale()\n",
        "eastern = pytz.timezone('US/Eastern')\n",
        "raleigh = wgs84.latlon(+35.78, -78.64, elevation_m=100)\n"
      ],
      "execution_count": 4,
      "outputs": [
        {
          "output_type": "stream",
          "text": [
            "Requirement already satisfied: skyfield in /usr/local/lib/python3.6/dist-packages (1.36)\n",
            "Requirement already satisfied: jplephem>=2.13 in /usr/local/lib/python3.6/dist-packages (from skyfield) (2.15)\n",
            "Requirement already satisfied: certifi>=2017.4.17 in /usr/local/lib/python3.6/dist-packages (from skyfield) (2020.12.5)\n",
            "Requirement already satisfied: numpy in /usr/local/lib/python3.6/dist-packages (from skyfield) (1.19.5)\n",
            "Requirement already satisfied: sgp4>=2.2 in /usr/local/lib/python3.6/dist-packages (from skyfield) (2.15)\n"
          ],
          "name": "stdout"
        }
      ]
    },
    {
      "cell_type": "markdown",
      "metadata": {
        "id": "XBykMmEGzr-k"
      },
      "source": [
        "[space station orbital elements (NORAD)](http://celestrak.com/NORAD/elements/stations.txt)\n"
      ]
    },
    {
      "cell_type": "code",
      "metadata": {
        "colab": {
          "base_uri": "https://localhost:8080/"
        },
        "id": "xmqQXV72B0gZ",
        "outputId": "94b3c082-d6a5-41b2-804f-a88134516d49"
      },
      "source": [
        "stations_url = 'http://celestrak.com/NORAD/elements/stations.txt'\n",
        "satellites = load.tle_file(stations_url)\n",
        "print('Loaded', len(satellites), 'satellites')"
      ],
      "execution_count": 5,
      "outputs": [
        {
          "output_type": "stream",
          "text": [
            "Loaded 69 satellites\n"
          ],
          "name": "stdout"
        }
      ]
    },
    {
      "cell_type": "code",
      "metadata": {
        "colab": {
          "base_uri": "https://localhost:8080/"
        },
        "id": "rc8BF9IkCUj5",
        "outputId": "cdab3605-3d3d-4117-d0d4-3fd6afaf53c2"
      },
      "source": [
        "by_name = {sat.name: sat for sat in satellites}\n",
        "satellite = by_name['ISS (ZARYA)']\n",
        "print(satellite)\n",
        "print(satellite.epoch.utc_jpl())\n",
        "print(satellite)"
      ],
      "execution_count": 6,
      "outputs": [
        {
          "output_type": "stream",
          "text": [
            "ISS (ZARYA) catalog #25544 epoch 2021-01-30 12:01:55 UTC\n",
            "A.D. 2021-Jan-30 12:01:55.1634 UTC\n",
            "ISS (ZARYA) catalog #25544 epoch 2021-01-30 12:01:55 UTC\n"
          ],
          "name": "stdout"
        }
      ]
    },
    {
      "cell_type": "markdown",
      "metadata": {
        "id": "NEAZ4D6CM2ML"
      },
      "source": [
        "Where is the ISS? [NASA Spot the Station](https://spotthestation.nasa.gov/tracking_map.cfm)"
      ]
    },
    {
      "cell_type": "code",
      "metadata": {
        "colab": {
          "base_uri": "https://localhost:8080/"
        },
        "id": "ZgaEipJyGqWR",
        "outputId": "7e8f2f2a-2c62-4417-e94a-0de7624dba77"
      },
      "source": [
        "t = ts.now()\n",
        "geocentric = satellite.at(t)\n",
        "subpoint = wgs84.subpoint(geocentric)\n",
        "print(f'Latitude:  {subpoint.latitude.degrees:.2f}')\n",
        "print(f'Longitude: {subpoint.longitude.degrees:.2f}')\n",
        "print(f\"Elevation {int(subpoint.elevation.km)} (km) {int(subpoint.elevation.km*0.621371)} (mi)\")\n",
        "print(f\"https://earth.google.com/web/search/{subpoint.latitude.degrees:.2f},{subpoint.longitude.degrees:.2f}\")"
      ],
      "execution_count": 7,
      "outputs": [
        {
          "output_type": "stream",
          "text": [
            "Latitude:  51.78\n",
            "Longitude: 25.69\n",
            "Elevation 426 (km) 265 (mi)\n",
            "https://earth.google.com/web/search/51.78,25.69\n"
          ],
          "name": "stdout"
        }
      ]
    },
    {
      "cell_type": "code",
      "metadata": {
        "colab": {
          "base_uri": "https://localhost:8080/"
        },
        "id": "rw-kStNDO1AF",
        "outputId": "2e7c2788-9938-47f9-c17d-a4ae4c1bb673"
      },
      "source": [
        "difference = satellite - raleigh\n",
        "topocentric = difference.at(t)\n",
        "alt, az, distance = topocentric.altaz()\n",
        "print(f\"alt {alt}, az {az} distance {int(distance.km)} (km) {int(distance.km*0.621371):,} (mi)\")"
      ],
      "execution_count": 8,
      "outputs": [
        {
          "output_type": "stream",
          "text": [
            "alt -32deg 36' 16.6\", az 39deg 32' 45.4\" distance 7619 (km) 4,734 (mi)\n"
          ],
          "name": "stdout"
        }
      ]
    },
    {
      "cell_type": "markdown",
      "metadata": {
        "id": "fYnjhUVYZmGe"
      },
      "source": [
        "ISS Passes [Heavens Above](https://www.heavens-above.com/main.aspx?lat=35.78&lng=-78.64&loc=Raleigh,+NC&alt=200.00000000000003)"
      ]
    },
    {
      "cell_type": "code",
      "metadata": {
        "colab": {
          "base_uri": "https://localhost:8080/"
        },
        "id": "ltrQGBkRCZWH",
        "outputId": "a130f967-dd21-4af5-9829-5b5837eeb567"
      },
      "source": [
        "raleigh = wgs84.latlon(+35.78, -78.64, elevation_m=100)\n",
        "t0 = ts.utc(2021, 1, 31)\n",
        "t1 = ts.utc(2021, 2, 5)\n",
        "t, events = satellite.find_events(raleigh, t0, t1, altitude_degrees=10.0)\n",
        "for ti, event in zip(t, events):\n",
        "    name = ('rise above 10°', 'culminate', 'set below 10°')[event]\n",
        "    print(ti.utc_strftime('%Y %b %d %H:%M:%S'), name)"
      ],
      "execution_count": 9,
      "outputs": [
        {
          "output_type": "stream",
          "text": [
            "2021 Jan 31 01:43:20 rise above 10°\n",
            "2021 Jan 31 01:46:34 culminate\n",
            "2021 Jan 31 01:49:47 set below 10°\n",
            "2021 Jan 31 03:20:56 rise above 10°\n",
            "2021 Jan 31 03:23:07 culminate\n",
            "2021 Jan 31 03:25:17 set below 10°\n",
            "2021 Jan 31 18:24:25 rise above 10°\n",
            "2021 Jan 31 18:27:44 culminate\n",
            "2021 Jan 31 18:31:05 set below 10°\n",
            "2021 Jan 31 20:02:44 rise above 10°\n",
            "2021 Jan 31 20:04:51 culminate\n",
            "2021 Jan 31 20:07:00 set below 10°\n",
            "2021 Feb 01 00:56:12 rise above 10°\n",
            "2021 Feb 01 00:59:05 culminate\n",
            "2021 Feb 01 01:01:59 set below 10°\n",
            "2021 Feb 01 02:32:54 rise above 10°\n",
            "2021 Feb 01 02:35:53 culminate\n",
            "2021 Feb 01 02:38:52 set below 10°\n",
            "2021 Feb 01 17:37:20 rise above 10°\n",
            "2021 Feb 01 17:40:25 culminate\n",
            "2021 Feb 01 17:43:32 set below 10°\n",
            "2021 Feb 01 19:14:34 rise above 10°\n",
            "2021 Feb 01 19:17:18 culminate\n",
            "2021 Feb 01 19:20:02 set below 10°\n",
            "2021 Feb 02 00:09:10 rise above 10°\n",
            "2021 Feb 02 00:11:32 culminate\n",
            "2021 Feb 02 00:13:54 set below 10°\n",
            "2021 Feb 02 01:45:16 rise above 10°\n",
            "2021 Feb 02 01:48:35 culminate\n",
            "2021 Feb 02 01:51:54 set below 10°\n",
            "2021 Feb 02 16:50:41 rise above 10°\n",
            "2021 Feb 02 16:53:10 culminate\n",
            "2021 Feb 02 16:55:40 set below 10°\n",
            "2021 Feb 02 18:26:40 rise above 10°\n",
            "2021 Feb 02 18:29:47 culminate\n",
            "2021 Feb 02 18:32:56 set below 10°\n",
            "2021 Feb 02 23:22:23 rise above 10°\n",
            "2021 Feb 02 23:23:55 culminate\n",
            "2021 Feb 02 23:25:29 set below 10°\n",
            "2021 Feb 03 00:57:50 rise above 10°\n",
            "2021 Feb 03 01:01:13 culminate\n",
            "2021 Feb 03 01:04:35 set below 10°\n",
            "2021 Feb 03 16:05:07 rise above 10°\n",
            "2021 Feb 03 16:05:57 culminate\n",
            "2021 Feb 03 16:06:47 set below 10°\n",
            "2021 Feb 03 17:39:01 rise above 10°\n",
            "2021 Feb 03 17:42:20 culminate\n",
            "2021 Feb 03 17:45:41 set below 10°\n",
            "2021 Feb 03 19:18:37 rise above 10°\n",
            "2021 Feb 03 19:19:43 culminate\n",
            "2021 Feb 03 19:20:50 set below 10°\n",
            "2021 Feb 04 00:10:33 rise above 10°\n",
            "2021 Feb 04 00:13:47 culminate\n",
            "2021 Feb 04 00:17:01 set below 10°\n",
            "2021 Feb 04 01:48:11 rise above 10°\n",
            "2021 Feb 04 01:50:20 culminate\n",
            "2021 Feb 04 01:52:29 set below 10°\n",
            "2021 Feb 04 16:51:38 rise above 10°\n",
            "2021 Feb 04 16:54:57 culminate\n",
            "2021 Feb 04 16:58:18 set below 10°\n",
            "2021 Feb 04 18:29:59 rise above 10°\n",
            "2021 Feb 04 18:32:05 culminate\n",
            "2021 Feb 04 18:34:11 set below 10°\n",
            "2021 Feb 04 23:23:23 rise above 10°\n",
            "2021 Feb 04 23:26:18 culminate\n",
            "2021 Feb 04 23:29:12 set below 10°\n"
          ],
          "name": "stdout"
        }
      ]
    },
    {
      "cell_type": "code",
      "metadata": {
        "id": "TNU1tVBiRUCz"
      },
      "source": [
        "eph = load('de421.bsp')\n",
        "sun, earth = eph['sun'], eph['earth']\n",
        "horizon=10\n",
        "def sun_pos(t, topopos):\n",
        "  obs = earth + raleigh\n",
        "  astrometric = obs.at(t).observe(sun)\n",
        "  apparent = obs.at(t).observe(sun).apparent()\n",
        "  alt, az, dist = apparent.altaz()\n",
        "  return alt, az, dist"
      ],
      "execution_count": 11,
      "outputs": []
    },
    {
      "cell_type": "code",
      "metadata": {
        "colab": {
          "base_uri": "https://localhost:8080/"
        },
        "id": "_8vIX_9VSz8f",
        "outputId": "1b75a682-8306-43de-e6d3-704a89306e4a"
      },
      "source": [
        "for ti, event in zip(t, events):\n",
        "    name = (f'rise above {horizon}°', 'highest point', f'set below {horizon}°')[event]\n",
        "    sunalt, sunaz, sundist = sun_pos(ti, raleigh)\n",
        "    if -12 <= sunalt.degrees <= -6:\n",
        "      print(ti.utc_jpl(), name)"
      ],
      "execution_count": 12,
      "outputs": [
        {
          "output_type": "stream",
          "text": [
            "A.D. 2021-Feb-02 23:22:22.5278 UTC rise above 10°\n",
            "A.D. 2021-Feb-02 23:23:55.4575 UTC highest point\n",
            "A.D. 2021-Feb-02 23:25:29.0701 UTC set below 10°\n",
            "A.D. 2021-Feb-04 23:23:23.2923 UTC rise above 10°\n",
            "A.D. 2021-Feb-04 23:26:17.6494 UTC highest point\n",
            "A.D. 2021-Feb-04 23:29:11.5232 UTC set below 10°\n"
          ],
          "name": "stdout"
        }
      ]
    },
    {
      "cell_type": "code",
      "metadata": {
        "colab": {
          "base_uri": "https://localhost:8080/"
        },
        "id": "dujpIRX-UQ3n",
        "outputId": "39a2d94f-8831-4b9f-965c-fe7896d523d3"
      },
      "source": [
        "\n",
        "horizon=10.0\n",
        "t, events = satellite.find_events(raleigh, t0, t1, altitude_degrees=horizon)\n",
        "for ti, event in zip(t, events):\n",
        "    name = (f'rise above {horizon}°', 'highest point', f'set below {horizon}°')[event]\n",
        "    sunalt, sunaz, sundist = sun_pos(ti, raleigh)\n",
        "    if -12 <= sunalt.degrees <= -6:\n",
        "      print(ti.astimezone(eastern).strftime('%a %b %d %-I:%M:%S %p'), name)\n",
        "      if event ==2:\n",
        "        print()\n",
        "        # plot_sky(passes[1], self.timezoneobj, t, alt, az)"
      ],
      "execution_count": 13,
      "outputs": [
        {
          "output_type": "stream",
          "text": [
            "Tue Feb 02 6:22:22 PM rise above 10.0°\n",
            "Tue Feb 02 6:23:55 PM highest point\n",
            "Tue Feb 02 6:25:29 PM set below 10.0°\n",
            "\n",
            "Thu Feb 04 6:23:23 PM rise above 10.0°\n",
            "Thu Feb 04 6:26:17 PM highest point\n",
            "Thu Feb 04 6:29:11 PM set below 10.0°\n",
            "\n"
          ],
          "name": "stdout"
        }
      ]
    }
  ]
}