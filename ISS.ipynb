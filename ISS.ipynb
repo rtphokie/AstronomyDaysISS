{
  "nbformat": 4,
  "nbformat_minor": 0,
  "metadata": {
    "colab": {
      "provenance": [],
      "authorship_tag": "ABX9TyOoiCZll+3LHQ4bZ11nEwxU",
      "include_colab_link": true
    },
    "kernelspec": {
      "name": "python3",
      "display_name": "Python 3"
    }
  },
  "cells": [
    {
      "cell_type": "markdown",
      "metadata": {
        "id": "view-in-github",
        "colab_type": "text"
      },
      "source": [
        "<a href=\"https://colab.research.google.com/github/rtphokie/AstronomyDaysISS/blob/main/ISS.ipynb\" target=\"_parent\"><img src=\"https://colab.research.google.com/assets/colab-badge.svg\" alt=\"Open In Colab\"/></a>"
      ]
    },
    {
      "cell_type": "code",
      "metadata": {
        "colab": {
          "base_uri": "https://localhost:8080/"
        },
        "id": "dpULQI2fCOMG",
        "outputId": "8a94ce19-2aa1-44f1-94e3-da07fa8e3b97"
      },
      "source": [
        "!pip install skyfield\n",
        "from skyfield.api import load, wgs84\n",
        "import pytz\n",
        "import pylab as pl\n",
        "import matplotlib.pyplot as plt\n",
        "ts = load.timescale()\n",
        "horizon=10"
      ],
      "execution_count": null,
      "outputs": [
        {
          "output_type": "stream",
          "name": "stdout",
          "text": [
            "Requirement already satisfied: skyfield in /usr/local/lib/python3.10/dist-packages (1.48)\n",
            "Requirement already satisfied: certifi>=2017.4.17 in /usr/local/lib/python3.10/dist-packages (from skyfield) (2024.2.2)\n",
            "Requirement already satisfied: jplephem>=2.13 in /usr/local/lib/python3.10/dist-packages (from skyfield) (2.22)\n",
            "Requirement already satisfied: numpy in /usr/local/lib/python3.10/dist-packages (from skyfield) (1.25.2)\n",
            "Requirement already satisfied: sgp4>=2.2 in /usr/local/lib/python3.10/dist-packages (from skyfield) (2.23)\n"
          ]
        }
      ]
    },
    {
      "cell_type": "markdown",
      "metadata": {
        "id": "XBykMmEGzr-k"
      },
      "source": [
        "[space station orbital elements (NORAD)](http://celestrak.com/NORAD/elements/stations.txt)\n"
      ]
    },
    {
      "cell_type": "code",
      "metadata": {
        "colab": {
          "base_uri": "https://localhost:8080/"
        },
        "id": "xmqQXV72B0gZ",
        "outputId": "12be6b1f-63a3-47f4-d879-61e47f794ff0"
      },
      "source": [
        "stations_url = 'http://celestrak.com/NORAD/elements/stations.txt'\n",
        "satellites = load.tle_file(stations_url)\n",
        "print('Loaded', len(satellites), 'satellites')"
      ],
      "execution_count": null,
      "outputs": [
        {
          "output_type": "stream",
          "name": "stdout",
          "text": [
            "Loaded 30 satellites\n"
          ]
        }
      ]
    },
    {
      "cell_type": "markdown",
      "source": [
        "https://upload.wikimedia.org/wikipedia/commons/2/24/ISS_diagram.png"
      ],
      "metadata": {
        "id": "Jjdp9Tz5AOrv"
      }
    },
    {
      "cell_type": "code",
      "metadata": {
        "colab": {
          "base_uri": "https://localhost:8080/"
        },
        "id": "rc8BF9IkCUj5",
        "outputId": "e6344a79-eb8c-4c9d-cc5b-e033b4156306"
      },
      "source": [
        "by_name = {sat.name: sat for sat in satellites}\n",
        "satellite = by_name['ISS (ZARYA)']\n",
        "\n",
        "print(satellite.epoch.utc_jpl())\n",
        "print(satellite)"
      ],
      "execution_count": null,
      "outputs": [
        {
          "output_type": "stream",
          "name": "stdout",
          "text": [
            "A.D. 2024-Apr-29 16:52:03.1262 UTC\n",
            "ISS (ZARYA) catalog #25544 epoch 2024-04-29 16:52:03 UTC\n"
          ]
        }
      ]
    },
    {
      "cell_type": "markdown",
      "metadata": {
        "id": "NEAZ4D6CM2ML"
      },
      "source": [
        "Where is the ISS? [NASA Spot the Station](https://spotthestation.nasa.gov/tracking_map.cfm)"
      ]
    },
    {
      "cell_type": "code",
      "metadata": {
        "colab": {
          "base_uri": "https://localhost:8080/"
        },
        "id": "ZgaEipJyGqWR",
        "outputId": "026141d1-ff59-464a-c7a0-bd815975a527"
      },
      "source": [
        "t = ts.now()\n",
        "geocentric = satellite.at(t)\n",
        "subpoint = wgs84.subpoint(geocentric)\n",
        "print(f'Latitude:  {subpoint.latitude.degrees:.2f}')\n",
        "print(f'Longitude: {subpoint.longitude.degrees:.2f}')\n",
        "print(f\"Elevation {int(subpoint.elevation.km)} (km) {int(subpoint.elevation.km*0.621371)} (mi)\")\n",
        "print(f\"https://earth.google.com/web/search/{subpoint.latitude.degrees:.2f},{subpoint.longitude.degrees:.2f}/@47.13588096,47.3759601,-4649.26594136a,12274433.30377579d,35y,0h,0t,0r/data=Ck8aJRIfGY_C9ShcT0dAIR6F61G4nklAKgs0Ni42Miw1MS4yNBgCIAEiJgokCSNpsjq36UZAEVAjwaN0RkJAGZpZdCkAsFnAIbZNPnqeYV_AOgMKATA\")\n"
      ],
      "execution_count": null,
      "outputs": [
        {
          "output_type": "stream",
          "name": "stdout",
          "text": [
            "Latitude:  47.88\n",
            "Longitude: 111.60\n",
            "Elevation 417 (km) 259 (mi)\n",
            "https://earth.google.com/web/search/47.88,111.60/@47.13588096,47.3759601,-4649.26594136a,12274433.30377579d,35y,0h,0t,0r/data=Ck8aJRIfGY_C9ShcT0dAIR6F61G4nklAKgs0Ni42Miw1MS4yNBgCIAEiJgokCSNpsjq36UZAEVAjwaN0RkJAGZpZdCkAsFnAIbZNPnqeYV_AOgMKATA\n"
          ]
        }
      ]
    },
    {
      "cell_type": "code",
      "source": [
        "localtz = pytz.timezone('US/Mountain')\n",
        "twinfalls_lat=42.58619\n",
        "twinfalls_lng=-114.4849\n",
        "print(f\"https://earth.google.com/web/search/{twinfalls_lat},{twinfalls_lng}/@{twinfalls_lat},{twinfalls_lng},1118.53612974a,602.64657559d,35y,0h,0t,0r/data=ClcaLRInGQGfH0YIS0VAISV1ApoIn1zAKhM0Mi41ODYxOSwgLTExNC40ODQ5GAIgASImCiQJSFNn4ihMRUARd6Kq1OtJRUAZCPZlHtqdXMAhURrod2ugXMA6AwoBMA\")\n",
        "\n",
        "twinfalls = wgs84.latlon(twinfalls_lat,twinfalls_lng, elevation_m=1100)"
      ],
      "metadata": {
        "colab": {
          "base_uri": "https://localhost:8080/"
        },
        "id": "G-Nfqqd5DTha",
        "outputId": "7a9a0971-bc7d-4f7b-828a-881836653e7d"
      },
      "execution_count": null,
      "outputs": [
        {
          "output_type": "stream",
          "name": "stdout",
          "text": [
            "https://earth.google.com/web/search/42.58619,-114.4849/@42.58619,-114.4849,1118.53612974a,602.64657559d,35y,0h,0t,0r/data=ClcaLRInGQGfH0YIS0VAISV1ApoIn1zAKhM0Mi41ODYxOSwgLTExNC40ODQ5GAIgASImCiQJSFNn4ihMRUARd6Kq1OtJRUAZCPZlHtqdXMAhURrod2ugXMA6AwoBMA\n"
          ]
        }
      ]
    },
    {
      "cell_type": "code",
      "metadata": {
        "colab": {
          "base_uri": "https://localhost:8080/"
        },
        "id": "rw-kStNDO1AF",
        "outputId": "44b00972-dd1f-4a23-a0c0-6edf73b2599d"
      },
      "source": [
        "difference = satellite - twinfalls\n",
        "topocentric = difference.at(t)\n",
        "alt, az, distance = topocentric.altaz()\n",
        "print(f\"alt {alt}, az {az} distance {int(distance.km)} (km) {int(distance.km*0.621371):,} (mi)\")"
      ],
      "execution_count": null,
      "outputs": [
        {
          "output_type": "stream",
          "name": "stdout",
          "text": [
            "alt -38deg 17' 53.2\", az 330deg 41' 17.8\" distance 8560 (km) 5,319 (mi)\n"
          ]
        }
      ]
    },
    {
      "cell_type": "markdown",
      "metadata": {
        "id": "fYnjhUVYZmGe"
      },
      "source": [
        "ISS Passes [Heavens Above](https://www.heavens-above.com/ISS_3D.aspx)"
      ]
    },
    {
      "cell_type": "code",
      "metadata": {
        "colab": {
          "base_uri": "https://localhost:8080/"
        },
        "id": "ltrQGBkRCZWH",
        "outputId": "9558db98-c99c-47a8-9d83-9a67ef831587"
      },
      "source": [
        "t0 = ts.utc(2024, 4, 30)\n",
        "t1 = ts.utc(2024, 5, 4)\n",
        "t, events = satellite.find_events(twinfalls, t0, t1, altitude_degrees=horizon)\n",
        "for ti, event in zip(t, events):\n",
        "    name = ('rise above 10°', 'culminate', 'set below 10°')[event]\n",
        "    print(ti.utc_strftime('%Y %b %d %H:%M:%S'), name)"
      ],
      "execution_count": null,
      "outputs": [
        {
          "output_type": "stream",
          "name": "stdout",
          "text": [
            "2024 Apr 30 07:55:06 rise above 10°\n",
            "2024 Apr 30 07:57:51 culminate\n",
            "2024 Apr 30 08:00:37 set below 10°\n",
            "2024 Apr 30 09:31:11 rise above 10°\n",
            "2024 Apr 30 09:34:24 culminate\n",
            "2024 Apr 30 09:37:37 set below 10°\n",
            "2024 Apr 30 11:09:17 rise above 10°\n",
            "2024 Apr 30 11:11:41 culminate\n",
            "2024 Apr 30 11:14:06 set below 10°\n",
            "2024 Apr 30 12:46:41 rise above 10°\n",
            "2024 Apr 30 12:49:16 culminate\n",
            "2024 Apr 30 12:51:49 set below 10°\n",
            "2024 Apr 30 14:23:06 rise above 10°\n",
            "2024 Apr 30 14:26:25 culminate\n",
            "2024 Apr 30 14:29:43 set below 10°\n",
            "2024 Apr 30 16:00:42 rise above 10°\n",
            "2024 Apr 30 16:02:46 culminate\n",
            "2024 Apr 30 16:04:50 set below 10°\n",
            "2024 May 01 07:07:03 rise above 10°\n",
            "2024 May 01 07:08:54 culminate\n",
            "2024 May 01 07:10:46 set below 10°\n",
            "2024 May 01 08:41:54 rise above 10°\n",
            "2024 May 01 08:45:13 culminate\n",
            "2024 May 01 08:48:32 set below 10°\n",
            "2024 May 01 10:19:43 rise above 10°\n",
            "2024 May 01 10:22:20 culminate\n",
            "2024 May 01 10:24:57 set below 10°\n",
            "2024 May 01 11:57:31 rise above 10°\n",
            "2024 May 01 11:59:54 culminate\n",
            "2024 May 01 12:02:16 set below 10°\n",
            "2024 May 01 13:34:02 rise above 10°\n",
            "2024 May 01 13:37:13 culminate\n",
            "2024 May 01 13:40:24 set below 10°\n",
            "2024 May 01 15:10:57 rise above 10°\n",
            "2024 May 01 15:13:47 culminate\n",
            "2024 May 01 15:16:38 set below 10°\n",
            "2024 May 02 07:52:45 rise above 10°\n",
            "2024 May 02 07:56:03 culminate\n",
            "2024 May 02 07:59:21 set below 10°\n",
            "2024 May 02 09:30:07 rise above 10°\n",
            "2024 May 02 09:32:58 culminate\n",
            "2024 May 02 09:35:50 set below 10°\n",
            "2024 May 02 11:08:11 rise above 10°\n",
            "2024 May 02 11:10:28 culminate\n",
            "2024 May 02 11:12:45 set below 10°\n",
            "2024 May 02 12:44:56 rise above 10°\n",
            "2024 May 02 12:47:55 culminate\n",
            "2024 May 02 12:50:54 set below 10°\n",
            "2024 May 02 14:21:31 rise above 10°\n",
            "2024 May 02 14:24:43 culminate\n",
            "2024 May 02 14:27:54 set below 10°\n",
            "2024 May 03 07:03:49 rise above 10°\n",
            "2024 May 03 07:06:54 culminate\n",
            "2024 May 03 07:10:00 set below 10°\n",
            "2024 May 03 08:40:31 rise above 10°\n",
            "2024 May 03 08:43:36 culminate\n",
            "2024 May 03 08:46:41 set below 10°\n",
            "2024 May 03 10:18:41 rise above 10°\n",
            "2024 May 03 10:21:00 culminate\n",
            "2024 May 03 10:23:18 set below 10°\n",
            "2024 May 03 11:55:47 rise above 10°\n",
            "2024 May 03 11:58:32 culminate\n",
            "2024 May 03 12:01:16 set below 10°\n",
            "2024 May 03 13:32:12 rise above 10°\n",
            "2024 May 03 13:35:32 culminate\n",
            "2024 May 03 13:38:50 set below 10°\n",
            "2024 May 03 15:11:23 rise above 10°\n",
            "2024 May 03 15:11:41 culminate\n",
            "2024 May 03 15:12:01 set below 10°\n"
          ]
        }
      ]
    },
    {
      "cell_type": "code",
      "metadata": {
        "id": "TNU1tVBiRUCz"
      },
      "source": [
        "eph = load('de421.bsp')\n",
        "sun, earth = eph['sun'], eph['earth']\n",
        "def sun_pos(t, topopos):\n",
        "  obs = earth + twinfalls\n",
        "  astrometric = obs.at(t).observe(sun)\n",
        "  apparent = obs.at(t).observe(sun).apparent()\n",
        "  alt, az, dist = apparent.altaz()\n",
        "  return alt, az, dist"
      ],
      "execution_count": null,
      "outputs": []
    },
    {
      "cell_type": "code",
      "metadata": {
        "colab": {
          "base_uri": "https://localhost:8080/"
        },
        "id": "_8vIX_9VSz8f",
        "outputId": "602a1ccb-9550-4561-9d0c-4414271b160b"
      },
      "source": [
        "for ti, event in zip(t, events):\n",
        "    name = (f'rise above {horizon}°', 'highest point', f'set below {horizon}°')[event]\n",
        "    sunalt, sunaz, sundist = sun_pos(ti, twinfalls)\n",
        "    if -12 <= sunalt.degrees <= -6:\n",
        "      print(ti.utc_jpl(), name)"
      ],
      "execution_count": null,
      "outputs": [
        {
          "output_type": "stream",
          "name": "stdout",
          "text": [
            "A.D. 2024-May-01 11:57:31.0322 UTC rise above 10°\n",
            "A.D. 2024-May-01 11:59:53.7318 UTC highest point\n",
            "A.D. 2024-May-03 11:55:46.6938 UTC rise above 10°\n"
          ]
        }
      ]
    },
    {
      "cell_type": "code",
      "metadata": {
        "colab": {
          "base_uri": "https://localhost:8080/"
        },
        "id": "dujpIRX-UQ3n",
        "outputId": "04ce87cb-9cb2-473d-8433-e125df818fb5"
      },
      "source": [
        "\n",
        "t, events = satellite.find_events(twinfalls, t0, t1, altitude_degrees=horizon)\n",
        "for ti, event in zip(t, events):\n",
        "    name = (f'rise above {horizon}°', 'highest point', f'set below {horizon}°')[event]\n",
        "    sunalt, sunaz, sundist = sun_pos(ti, twinfalls)\n",
        "    if -12 <= sunalt.degrees <= -6:\n",
        "      print(ti.astimezone(localtz).strftime('%a %b %d %-I:%M:%S %p'), name)\n",
        "      if event ==2:\n",
        "        print()\n",
        "        # plot_sky(passes[1], self.timezoneobj, t, alt, az)"
      ],
      "execution_count": null,
      "outputs": [
        {
          "output_type": "stream",
          "name": "stdout",
          "text": [
            "Wed May 01 5:57:31 AM rise above 10°\n",
            "Wed May 01 5:59:53 AM highest point\n",
            "Fri May 03 5:55:46 AM rise above 10°\n"
          ]
        }
      ]
    }
  ]
}